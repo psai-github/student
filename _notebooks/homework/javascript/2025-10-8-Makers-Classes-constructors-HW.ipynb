{
 "cells": [
  {
   "cell_type": "raw",
   "id": "f46d5103",
   "metadata": {
    "vscode": {
     "languageId": "raw"
    }
   },
   "source": [
    "---\n",
    "layout: post\n",
    "title: Classes and Constructors Homework\n",
    "description:  Classes and Constructors Homework\n",
    "categories: [Javascript, Homework]\n",
    "permalink: /classes-constructors-HW\n",
    "author: Makers\n",
    "---"
   ]
  },
  {
   "cell_type": "markdown",
   "id": "b0f73322",
   "metadata": {},
   "source": [
    "## <u>JavaScript Classes and Constructors Homework<u>\n",
    "By now you should have a decent grasp of classes and constructors, and how to make and build one. The following exercises should help you solidify your understanding of classes and constructors in JavaScript."
   ]
  },
  {
   "cell_type": "markdown",
   "id": "4be7bd0a",
   "metadata": {
    "vscode": {
     "languageId": "javascript"
    }
   },
   "source": [
    "## Popcorn Hack 1\n",
    "1. The class TennisPlayer has been defined for you. Create a constructor with the arguments name, rank, and rankPoints.\n",
    "2. Call the class with the arguments Novak Djokovic, 1, 16000. \n",
    "3. Add one or more of the following arguments to the initial constructor: age, tournamentsPlayed, titlesWon. Add this as part of the profile output."
   ]
  },
  {
   "cell_type": "code",
   "execution_count": null,
   "id": "7399ab93",
   "metadata": {
    "vscode": {
     "languageId": "javascript"
    }
   },
   "outputs": [],
   "source": [
    "%%javascript\n",
    "class TennisPlayer {\n",
    "  constructor(name, rank, rankPoints) {\n",
    "    this.name = name;\n",
    "    this.rank = rank;\n",
    "    this.rankPoints = rankPoints;\n",
    "  }\n",
    "  profile() {\n",
    "    console.log(`Hi my name is ${this.name}, my rank is ${this.rank} and I have ${this.rankPoints} ranking points.`);\n",
    "  }\n",
    "}\n",
    "const player1 = new TennisPlayer('Novak Djokovic', 1, 16000);\n",
    "player1.profile();"
   ]
  },
  {
   "cell_type": "markdown",
   "id": "847cedc1",
   "metadata": {},
   "source": [
    "## Popcorn Hack 2\n",
    "1. Create a class called library\n",
    "2. Within library create a class called book with a constructor that allows the two methods - addBook and removeBook\n",
    "3. Add another inner class called computers - and have it output the number of computers on"
   ]
  },
  {
   "cell_type": "code",
   "execution_count": null,
   "id": "e7bad2b3",
   "metadata": {
    "vscode": {
     "languageId": "javascript"
    }
   },
   "outputs": [],
   "source": [
    "%%javascript\n",
    "class Library {\n",
    "  constructor(name, books = []) {\n",
    "    this.name = name;\n",
    "    this.books = books;\n",
    "    console.log(`Welcome to the ${this.name} Library!`);\n",
    "  }\n",
    "  addBook(title, author) {\n",
    "    this.books.push({ title, author });\n",
    "    console.log(`Added \"${title}\" by ${author} to the library.`);\n",
    "  }\n",
    "  removeBook(title) {\n",
    "    const index = this.books.findIndex(b => b.title === title);\n",
    "    if (index >= 0) {\n",
    "      this.books.splice(index, 1);\n",
    "      console.log(`Removed \"${title}\" from the library.`);\n",
    "    } else {\n",
    "      console.log(`\"${title}\" not found.`);\n",
    "    }\n",
    "  }\n",
    "}\n",
    "class Computers {\n",
    "  constructor(onCount) { this.onCount = onCount; }\n",
    "  showComputersOn() { console.log(`Number of computers on: ${this.onCount}`); }\n",
    "}\n",
    "const myLibrary = new Library('Downtown');\n",
    "myLibrary.addBook('The Hobbit', 'J.R.R. Tolkien');\n",
    "myLibrary.addBook('1984', 'George Orwell');\n",
    "myLibrary.removeBook('The Hobbit');\n",
    "const techRoom = new Computers(8);\n",
    "techRoom.showComputersOn();"
   ]
  },
  {
   "cell_type": "markdown",
   "id": "24d1fadb",
   "metadata": {},
   "source": [
    "## Homework\n",
    "Expand the Cookie Clicker project as described."
   ]
  },
  {
   "cell_type": "code",
   "execution_count": 1,
   "id": "e9c84d6f",
   "metadata": {
    "vscode": {
     "languageId": "javascript"
    }
   },
   "outputs": [
    {
     "data": {
      "application/javascript": "// SAFE Cookie Clicker Simulation (no prompts or infinite loop)\nclass CookieClicker {\n  constructor(cookies, cookiesPerClick, type) {\n    this.cookies = cookies;\n    this.cookiesPerClick = cookiesPerClick;\n    this.type = type || 'Chocolate Chip';\n  }\n  click() {\n    this.cookies += this.cookiesPerClick;\n    console.log(`🍪 You clicked a ${this.type} cookie! Total: ${this.cookies}`);\n  }\n}\nclass Upgrade {\n  constructor(name, cost, increase) {\n    this.name = name;\n    this.cost = cost;\n    this.increase = increase;\n  }\n  purchase(game) {\n    if (game.cookies >= this.cost) {\n      game.cookies -= this.cost;\n      game.cookiesPerClick += this.increase;\n      console.log(`✅ Purchased ${this.name}! Cookies per click: ${game.cookiesPerClick}`);\n    } else {\n      console.log(`❌ Not enough cookies for ${this.name}. Need ${this.cost - game.cookies} more.`);\n    }\n  }\n}\nconst game = new CookieClicker(0, 1, 'Oatmeal');\nconst cursor = new Upgrade('Cursor', 10, 1);\nconst grandma = new Upgrade('Grandma', 100, 5);\n\n// Simulate gameplay safely\nfor (let i = 0; i < 20; i++) { game.click(); }\ncursor.purchase(game);\nfor (let i = 0; i < 10; i++) { game.click(); }\ngrandma.purchase(game);\nconsole.log(`🏁 Final: ${game.cookies} cookies | ${game.cookiesPerClick} per click.`);\n",
      "text/plain": [
       "<IPython.core.display.Javascript object>"
      ]
     },
     "metadata": {},
     "output_type": "display_data"
    }
   ],
   "source": [
    "%%javascript\n",
    "// SAFE Cookie Clicker Simulation (no prompts or infinite loop)\n",
    "class CookieClicker {\n",
    "  constructor(cookies, cookiesPerClick, type) {\n",
    "    this.cookies = cookies;\n",
    "    this.cookiesPerClick = cookiesPerClick;\n",
    "    this.type = type || 'Chocolate Chip';\n",
    "  }\n",
    "  click() {\n",
    "    this.cookies += this.cookiesPerClick;\n",
    "    console.log(`🍪 You clicked a ${this.type} cookie! Total: ${this.cookies}`);\n",
    "  }\n",
    "}\n",
    "class Upgrade {\n",
    "  constructor(name, cost, increase) {\n",
    "    this.name = name;\n",
    "    this.cost = cost;\n",
    "    this.increase = increase;\n",
    "  }\n",
    "  purchase(game) {\n",
    "    if (game.cookies >= this.cost) {\n",
    "      game.cookies -= this.cost;\n",
    "      game.cookiesPerClick += this.increase;\n",
    "      console.log(`✅ Purchased ${this.name}! Cookies per click: ${game.cookiesPerClick}`);\n",
    "    } else {\n",
    "      console.log(`❌ Not enough cookies for ${this.name}. Need ${this.cost - game.cookies} more.`);\n",
    "    }\n",
    "  }\n",
    "}\n",
    "const game = new CookieClicker(0, 1, 'Oatmeal');\n",
    "const cursor = new Upgrade('Cursor', 10, 1);\n",
    "const grandma = new Upgrade('Grandma', 100, 5);\n",
    "\n",
    "// Simulate gameplay safely\n",
    "for (let i = 0; i < 20; i++) { game.click(); }\n",
    "cursor.purchase(game);\n",
    "for (let i = 0; i < 10; i++) { game.click(); }\n",
    "grandma.purchase(game);\n",
    "console.log(`🏁 Final: ${game.cookies} cookies | ${game.cookiesPerClick} per click.`);"
   ]
  },
  {
   "cell_type": "markdown",
   "id": "0180a89f",
   "metadata": {},
   "source": [
    "Homework reference: [Github Homework Link](https://github.com/Open-Coding-Society/pages/tree/main/_notebooks/CSSE/JavaScriptLessons/Classes_and_Methods)"
   ]
  }
 ],
 "metadata": {
  "kernelspec": {
   "display_name": "venv",
   "language": "python",
   "name": "python3"
  },
  "language_info": {
   "codemirror_mode": {
    "name": "ipython",
    "version": 3
   },
   "file_extension": ".py",
   "mimetype": "text/x-python",
   "name": "python",
   "nbconvert_exporter": "python",
   "pygments_lexer": "ipython3",
   "version": "3.11.9"
  }
 },
 "nbformat": 4,
 "nbformat_minor": 5
}
