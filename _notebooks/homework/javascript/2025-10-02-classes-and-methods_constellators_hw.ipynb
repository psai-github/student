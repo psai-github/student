{
 "cells": [
  {
   "cell_type": "markdown",
   "id": "3ddc81e9",
   "metadata": {},
   "source": [
    "---\n",
    "layout: post\n",
    "toc: True\n",
    "breadcrumb: True\n",
    "title: CSSE Classes and Methods HW\n",
    "description: These are the homework problems and popcorn hacks.\n",
    "permalink: /javascript/classes-and-methods/homework\n",
    "author: Adya S, Niharika B, Salma Z, Anika S, Sophie H\n",
    "categories: ['JavaScript']\n",
    "\n",
    "---"
   ]
  },
  {
   "cell_type": "markdown",
   "id": "04a627a9",
   "metadata": {},
   "source": [
    "## **Classes and Methods**"
   ]
  },
  {
   "cell_type": "markdown",
   "id": "a88704ec",
   "metadata": {},
   "source": [
    "### <u>Popcorn Hack 1 - Dice Roller</u>\n",
    "\n",
    "\n",
    "Instructions:\n",
    "Finish the code in the cell below (fill in underlines and add lines of code) so it works as described:\n",
    "\n",
    "- Create a class called Dice that:\n",
    "    - Has a property for the number of sides.\n",
    "    - Has a method roll() that returns a random number between 1 and the number of sides.\n",
    "\n",
    "\n",
    "At the bottom, test your game by making a DiceGame object and calling roll() a few times.\n",
    "\n",
    "The code is currently NOT functional. When you have completed this popcorn hack, the code should work. Have fun!"
   ]
  },
  {
   "cell_type": "code",
   "execution_count": 2,
   "id": "83cfb441",
   "metadata": {
    "vscode": {
     "languageId": "javascript"
    }
   },
   "outputs": [
    {
     "data": {
      "application/javascript": "\nclass Dice { // What should the name of the class be?\n  constructor(sides) { // Constructor to initialize the number of sides\n    this.sides = sides; // Number of sides on the dice\n  }\n\n  // roll() { // What should the name of the method be?\n  roll(){\n    return Math.floor(Math.random() * this.sides) + 1; // Rolls the dice and returns a number between 1 and the number of sides\n  }\n\n\n// Test the Dice class:\n// INSTANTIATE A NEW DICE OBJECT WITH A NUMBER OF SIDES\nlet dice = new Dice(6); // Create a dice object with 6 sides\n// CALL THE ROLL METHOD A FEW TIMES AND PRINT THE RESULTS\nconsole.log(dice.roll());\nconsole.log(dice.roll());\nconsole.log(dice.roll());\n",
      "text/plain": [
       "<IPython.core.display.Javascript object>"
      ]
     },
     "metadata": {},
     "output_type": "display_data"
    }
   ],
   "source": [
    "%%javascript\n",
    "\n",
    "class Dice { // What should the name of the class be?\n",
    "  constructor(sides) { // Constructor to initialize the number of sides\n",
    "    this.sides = sides; // Number of sides on the dice\n",
    "  }\n",
    "\n",
    "  // roll() { // What should the name of the method be?\n",
    "  roll(){\n",
    "    return Math.floor(Math.random() * this.sides) + 1; // Rolls the dice and returns a number between 1 and the number of sides\n",
    "  }\n",
    "\n",
    "\n",
    "// Test the Dice class:\n",
    "// INSTANTIATE A NEW DICE OBJECT WITH A NUMBER OF SIDES\n",
    "let dice = new Dice(6); // Create a dice object with 6 sides\n",
    "// CALL THE ROLL METHOD A FEW TIMES AND PRINT THE RESULTS\n",
    "console.log(dice.roll());\n",
    "console.log(dice.roll());\n",
    "console.log(dice.roll());"
   ]
  },
  {
   "cell_type": "markdown",
   "id": "eb525919",
   "metadata": {},
   "source": [
    "### <u>Popcorn Hack 2 - Pet Simulator</u>\n",
    "\n",
    "\n",
    "This hack is a bit more complicated than the first. Points will be awarded based on effort and completion.\n",
    "\n",
    "\n",
    "Analyze the block of code below. Then, complete the following instructions:\n",
    "\n",
    "\n",
    "1) Create a simple Pet class by filling in the _________.\n",
    "\n",
    "2) Add at least 2 properties (like hunger, energy, or happiness). EX: Stats decrease over time.\n",
    "\n",
    "3) Add at least two functioning methods (such as feed, play, or sleep) EX: Buttons increase stats.\n",
    "\n",
    "4) Give your pet a name and print their current properties.\n",
    "\n",
    "5) Bonus: Add a \"status\" method to print all your pet's stats.\n",
    "\n",
    "\n",
    "The code is currently NOT functional. When you have completed this popcorn hack, the code should work. Have fun!\n",
    "\n"
   ]
  },
  {
   "cell_type": "code",
   "execution_count": null,
   "id": "740b316c",
   "metadata": {
    "vscode": {
     "languageId": "javascript"
    }
   },
   "outputs": [],
   "source": [
    "%%javascript\n",
    "\n",
    "class pet {\n",
    "  constructor(name) {\n",
    "    this.name = name;\n",
    "    this.hunger = 5;   // you can change these values\n",
    "    this.energy = 5;\n",
    "    this.happiness = 5;\n",
    "  }\n",
    "\n",
    "  // TODO: Write at least 2 methods here\n",
    "  //Example:\n",
    "  feed(){\n",
    "    this.energy += 2;\n",
    "    this.hunger -= 1;\n",
    "    this.happiness += 1;\n",
    "    console.log(`${this.name} has been fed!`);\n",
    "  }\n",
    "  play(){\n",
    "    this.energy -= 2;\n",
    "    this.hunger += 1;\n",
    "    this.happiness += 2;\n",
    "    console.log(`${this.name} has been played with!`);\n",
    "  }\n",
    "  // feed()\n",
    "  //____________________________ // allow user to feed pet (add button to call this method)\n",
    "  //____________________________ // increase energy, decrease hunger, increase happiness\n",
    "  //____________________________ // print that the pet has been fed to console\n",
    "  // play()\n",
    "  //____________________________ // allow user to play w/ pet by clicking a button to call this method\n",
    "  //____________________________ // decrease energy, increase hunger, increase happiness\n",
    "  //____________________________ // print that the pet has been played with to console\n",
    "}\n",
    "\n",
    "const myPet = new pet(\"Pranav\"); // give your pet a name\n",
    "console.log(myPet); // print the properties of your pet to console\n",
    "output.innerText = JSON.stringify(myPet); // print the properties of your pet\n",
    "\n",
    "// Test your methods below:\n",
    "myPet.feed();\n",
    "myPet.play();"
   ]
  },
  {
   "cell_type": "markdown",
   "id": "e7ae67bd",
   "metadata": {},
   "source": [
    "### <u>Homework</u>\n",
    "\n",
    "Complete the following questions in the next code block.\n",
    "\n",
    "1) Create a class Person with properties 'name' and 'age'. Print their properties.\n",
    "\n",
    "2) Add a method greet() to your Person class that prints a greeting using the person's name.\n",
    "\n",
    "3) Create a class Book with properties 'title', 'author', and 'pages'. Instantiate a book and print its properties.\n",
    "\n",
    "4) Add a method read(pages) to your Book class that increments a pagesRead property and prints a message.\n",
    "\n",
    "5) Add a method isLongBook() that returns true if pages > 300, otherwise false. Print the result for your book.\n",
    "\n",
    "6) Create a class Car with properties 'make', 'model', and 'fuel'. Add methods drive(distance) and refuel(amount). Print messages in each method.\n",
    "\n",
    "7) Add a static method info() to your Car class that prints 'Cars are vehicles.'\n",
    "\n",
    "8) Create a class ElectricCar that extends Car. Add a property 'battery' and a method charge(amount) that increases battery. Print battery level after charging.\n",
    "\n",
    "10) Create a routine that combines your objects: drive a Car, charge an ElectricCar, read pages from a Book, and call greet() on Person. Print outputs for each action.\n",
    "\n",
    "11) **Extra Credit:** Submit the original OOP Breakout Game Code (found on [OpenCS](https://github.com/Open-Coding-Society/pages/blob/main/hacks/breakout/breakout.md?plain=1)) after making the following edits:\n",
    "- Add another feature to the game: Add a method so that the ball must collide with some bricks twice for a brick to break completely.\n",
    "- Edit a method in the ball class to increase/decrease the speed of the ball: Please add a COMMENT on the game code that specifies which line you edited."
   ]
  },
  {
   "cell_type": "code",
   "execution_count": null,
   "id": "52d29f28",
   "metadata": {
    "vscode": {
     "languageId": "javascript"
    }
   },
   "outputs": [
    {
     "data": {
      "application/javascript": "\nconsole.log(\"Code, code, code!\");\n",
      "text/plain": [
       "<IPython.core.display.Javascript object>"
      ]
     },
     "metadata": {},
     "output_type": "display_data"
    }
   ],
   "source": [
    "%%javascript\n",
    "\n",
    "console.log(\"Code, code, code!\");\n",
    "class Person{\n",
    "    constructor(name, age,pages){\n",
    "        this.name = name;\n",
    "        this.age = age;\n",
    "        this.pages = pages;\n",
    "    }\n",
    "    \n",
    "    \n",
    "    greet(){\n",
    "        console.log(`Hello, my name is ${this.name} and I am ${this.age} years old.`);\n",
    "    }\n",
    "\n",
    "}\n",
    "\n",
    "class Book{\n",
    "    constructor(title, author){\n",
    "        this.title = title;\n",
    "        this.author = author;\n",
    "    }\n",
    "   \n",
    "    read(pages){\n",
    "        this.pages += pages;\n",
    "        console.log(`${this.name} has read ${pages} pages.`);\n",
    "    }\n",
    "    isLongBook(){\n",
    "        if(this.pages > 300){\n",
    "            return true;\n",
    "        }\n",
    "        return false;\n",
    "    }\n",
    "}\n",
    "\n",
    "class Car{\n",
    "    constructor(make, model, fuel){\n",
    "        this.make = make;\n",
    "        this.model = model;\n",
    "        this.fuel = fuel;\n",
    "    }\n",
    "    static info(){\n",
    "        console.log(\"Cars are vehicles.\");\n",
    "    }\n",
    "    make(){\n",
    "        console.log(`This car is a ${this.make} ${this.model}.`);\n",
    "    }\n",
    "    drive(distance){\n",
    "        this.fuel -= distance * 0.1;\n",
    "        console.log(`${this.make} ${this.model} has driven ${distance} km.`);\n",
    "    }\n",
    "    refuel(amount){\n",
    "        this.fuel += amount;\n",
    "        console.log(`${this.make} ${this.model} has been refueled by ${amount} liters.`);\n",
    "    }\n",
    "}\n",
    "\n",
    "class ElectricCar extends Car{\n",
    "    constructor(make, model, fuel, battery){\n",
    "        super(make, model, fuel);\n",
    "        this.battery = battery;\n",
    "    }\n",
    "    charge(amount){\n",
    "        this.battery += amount;\n",
    "        console.log(`${this.make} ${this.model} has been charged by ${amount} kWh.`);\n",
    "    }\n",
    "}\n",
    "\n",
    "\n",
    "const book = new Book(\"1984\", \"George Orwell\");\n",
    "const car = new Car(\"Toyota\", \"Corolla\", 50);\n",
    "const electricCar = new ElectricCar(\"Tesla\", \"Model S\", 100, 75);\n",
    "\n",
    "person.greet();\n",
    "book.read(50);\n",
    "car.drive(100);\n",
    "electricCar.charge(25);"
   ]
  }
 ],
 "metadata": {
  "kernelspec": {
   "display_name": "venv",
   "language": "python",
   "name": "python3"
  },
  "language_info": {
   "codemirror_mode": {
    "name": "ipython",
    "version": 3
   },
   "file_extension": ".py",
   "mimetype": "text/x-python",
   "name": "python",
   "nbconvert_exporter": "python",
   "pygments_lexer": "ipython3",
   "version": "3.11.9"
  }
 },
 "nbformat": 4,
 "nbformat_minor": 5
}
