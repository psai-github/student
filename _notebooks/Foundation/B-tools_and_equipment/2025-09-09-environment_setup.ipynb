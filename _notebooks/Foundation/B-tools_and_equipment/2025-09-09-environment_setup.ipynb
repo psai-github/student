{
 "cells": [
  {
   "cell_type": "markdown",
   "id": "160deceb",
   "metadata": {},
   "source": [
    "---\n",
    "toc: true\n",
    "layout: post\n",
    "data: tools\n",
    "title: Environment Setup and Ruby Issue Troubleshooting Guide (New)\n",
    "description: Make pages and student succesfully and fix ruby issue.\n",
    "permalink: /tools/ruby\n",
    "breadcrumb: /tools\n",
    "breadcrumbs: true\n",
    "---"
   ]
  },
  {
   "cell_type": "markdown",
   "id": "0aec5a25",
   "metadata": {},
   "source": [
    "## 🔧 Environment Setup and Ruby Issue Troubleshooting Guide for macOS\n",
    "\n",
    "Use this page if you have an issue with ruby when trying to make the student or pages repository. We will be focusing on the student repository, however these steps can be applied to the pages repository as well.\n",
    "\n",
    "(Use the tools setup troubleshooting guide if you have issues cloning the repositories)\n",
    "\n",
    "---"
   ]
  },
  {
   "cell_type": "markdown",
   "id": "cfcf0407",
   "metadata": {},
   "source": [
    "## Clone the Repository\n",
    "\n",
    "1. Fork Mr.Mortensen's student repo on github\n",
    "2. Go to your forked student repo and copy the HTTPS URL\n",
    "3. Run git clone [URL] in your terminal\n",
    "\n",
    "        git clone https://github.com/psai-github/student.git\n",
    "\n",
    "---"
   ]
  },
  {
   "cell_type": "markdown",
   "id": "a62ec392",
   "metadata": {},
   "source": [
    "## Initialize Virtual Envirnonment\n",
    "\n",
    "Follow the steps on the the tools setup trouble shooting guide. If it dosn't work run:\n",
    "\n",
    "    rm -rf venv           #Deletes old venv\n",
    "    python3 -m venv venv. #Creates new venv\n",
    "    source venv/bin/activate && pip install -r requirements.txt.   #Activate new venv and install all required dependencies.\n",
    "\n",
    "---"
   ]
  },
  {
   "cell_type": "markdown",
   "id": "491d8b65",
   "metadata": {},
   "source": [
    "## Fix Ruby Issue\n",
    "\n",
    "Run this command to make sure all the Ruby gems listed in your project’s Gemfile (and their exact versions) are installed so Jekyll runs correctly.\n",
    "        \n",
    "        deactivate\n",
    "        bundle install\n",
    "        \n",
    "---"
   ]
  },
  {
   "cell_type": "markdown",
   "id": "0f2c642b",
   "metadata": {},
   "source": [
    "## \"Make\" the site\n",
    "\n",
    "We should now be able to succesfully make the site using the make command\n",
    "\n",
    "    source venv/bin/activate\n",
    "    make\n"
   ]
  }
 ],
 "metadata": {
  "kernelspec": {
   "display_name": "venv (3.12.5)",
   "language": "python",
   "name": "python3"
  },
  "language_info": {
   "codemirror_mode": {
    "name": "ipython",
    "version": 3
   },
   "file_extension": ".py",
   "mimetype": "text/x-python",
   "name": "python",
   "nbconvert_exporter": "python",
   "pygments_lexer": "ipython3",
   "version": "3.12.5"
  }
 },
 "nbformat": 4,
 "nbformat_minor": 5
}
